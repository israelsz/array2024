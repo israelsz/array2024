{
 "cells": [
  {
   "cell_type": "code",
   "execution_count": 2,
   "metadata": {},
   "outputs": [],
   "source": [
    "using PhyloNetworks\n",
    "using PhyloPlots"
   ]
  },
  {
   "cell_type": "code",
   "execution_count": 56,
   "metadata": {},
   "outputs": [
    {
     "data": {
      "image/png": "[encoded data removed]"
     },
     "metadata": {},
     "output_type": "display_data"
    }
   ],
   "source": [
    "net = readTopology(\"(1_2dn3-Hum:0.07530769665,((4_1hds-Dee:0.0528073453,6_1qpw-Pig:0.06665859446):0.02152352081,((3_2d5x-Hor:1e-08,5_2qss-Cow:1e-08):1e-08,20_1s0h-Do:1e-08):0.06472462393):0.02032419956,(((((((12_1out-Tr:0.2387258463,16_1spg-Fi:0.3731048609):0.05254102815,(((13_2h8f-Em:1e-08,15_3d1k-An:1e-08):0.1749055632,18_1V4W-Bl:0.09770713149):0.1479325642,19_1xq5-Ye:0.1992590704):0.07668473559):0.1801915413,((11_1wmu-Al:1e-08,17_1gcv-Ho:1e-08):0.4395960015,14_1cg5-Ca:0.3474616143):0.8944824012):1e-08,8_1hbr-Chi:0.2820483041):0.0189194681,2_1jeb-Hum:0.3128283876):0.08144709769,(9_1a4f-Bar:1e-08,10_1faw-Gr:1e-08):0.1655575179):0.1382264995,7_1fhj-Man:0.07975001425):0.01337333371);\")\n",
    "plot(net, shownodenumber=true); # to locate nodes and their numbers. D of hybrid origin"
   ]
  },
  {
   "cell_type": "code",
   "execution_count": 24,
   "metadata": {},
   "outputs": [
    {
     "data": {
      "text/plain": [
       "38-element Vector{PhyloNetworks.Node}:\n",
       " PhyloNetworks.Node:\n",
       " number:1\n",
       " name:1_2dn3-Hum\n",
       " leaf node\n",
       " attached to 1 edges, numbered: 1\n",
       "\n",
       " PhyloNetworks.Node:\n",
       " number:2\n",
       " name:4_1hds-Dee\n",
       " leaf node\n",
       " attached to 1 edges, numbered: 2\n",
       "\n",
       " PhyloNetworks.Node:\n",
       " number:3\n",
       " name:6_1qpw-Pig\n",
       " leaf node\n",
       " attached to 1 edges, numbered: 3\n",
       "\n",
       " PhyloNetworks.Node:\n",
       " number:-4\n",
       " attached to 3 edges, numbered: 2 3 4\n",
       "\n",
       " PhyloNetworks.Node:\n",
       " number:4\n",
       " name:3_2d5x-Hor\n",
       " leaf node\n",
       " attached to 1 edges, numbered: 5\n",
       "\n",
       " PhyloNetworks.Node:\n",
       " number:5\n",
       " name:5_2qss-Cow\n",
       " leaf node\n",
       " attached to 1 edges, numbered: 6\n",
       "\n",
       " PhyloNetworks.Node:\n",
       " number:-6\n",
       " attached to 3 edges, numbered: 5 6 7\n",
       "\n",
       " PhyloNetworks.Node:\n",
       " number:6\n",
       " name:20_1s0h-Do\n",
       " leaf node\n",
       " attached to 1 edges, numbered: 8\n",
       "\n",
       " PhyloNetworks.Node:\n",
       " number:-5\n",
       " attached to 3 edges, numbered: 7 8 9\n",
       "\n",
       " PhyloNetworks.Node:\n",
       " number:-3\n",
       " attached to 3 edges, numbered: 4 9 10\n",
       "\n",
       " PhyloNetworks.Node:\n",
       " number:7\n",
       " name:12_1out-Tr\n",
       " leaf node\n",
       " attached to 1 edges, numbered: 11\n",
       "\n",
       " PhyloNetworks.Node:\n",
       " number:8\n",
       " name:16_1spg-Fi\n",
       " leaf node\n",
       " attached to 1 edges, numbered: 12\n",
       "\n",
       " PhyloNetworks.Node:\n",
       " number:-13\n",
       " attached to 3 edges, numbered: 11 12 13\n",
       "\n",
       " ⋮\n",
       " PhyloNetworks.Node:\n",
       " number:-11\n",
       " attached to 3 edges, numbered: 21 26 27\n",
       "\n",
       " PhyloNetworks.Node:\n",
       " number:16\n",
       " name:8_1hbr-Chi\n",
       " leaf node\n",
       " attached to 1 edges, numbered: 28\n",
       "\n",
       " PhyloNetworks.Node:\n",
       " number:-10\n",
       " attached to 3 edges, numbered: 27 28 29\n",
       "\n",
       " PhyloNetworks.Node:\n",
       " number:17\n",
       " name:2_1jeb-Hum\n",
       " leaf node\n",
       " attached to 1 edges, numbered: 30\n",
       "\n",
       " PhyloNetworks.Node:\n",
       " number:-9\n",
       " attached to 3 edges, numbered: 29 30 31\n",
       "\n",
       " PhyloNetworks.Node:\n",
       " number:18\n",
       " name:9_1a4f-Bar\n",
       " leaf node\n",
       " attached to 1 edges, numbered: 32\n",
       "\n",
       " PhyloNetworks.Node:\n",
       " number:19\n",
       " name:10_1faw-Gr\n",
       " leaf node\n",
       " attached to 1 edges, numbered: 33\n",
       "\n",
       " PhyloNetworks.Node:\n",
       " number:-19\n",
       " attached to 3 edges, numbered: 32 33 34\n",
       "\n",
       " PhyloNetworks.Node:\n",
       " number:-8\n",
       " attached to 3 edges, numbered: 31 34 35\n",
       "\n",
       " PhyloNetworks.Node:\n",
       " number:20\n",
       " name:7_1fhj-Man\n",
       " leaf node\n",
       " attached to 1 edges, numbered: 36\n",
       "\n",
       " PhyloNetworks.Node:\n",
       " number:-7\n",
       " attached to 3 edges, numbered: 35 36 37\n",
       "\n",
       " PhyloNetworks.Node:\n",
       " number:-2\n",
       " attached to 3 edges, numbered: 1 10 37\n"
      ]
     },
     "execution_count": 24,
     "metadata": {},
     "output_type": "execute_result"
    }
   ],
   "source": [
    "net.node"
   ]
  },
  {
   "cell_type": "code",
   "execution_count": 25,
   "metadata": {},
   "outputs": [
    {
     "ename": "LoadError",
     "evalue": "node 9 is not hybrid, so we cannot delete hybridization event around it",
     "output_type": "error",
     "traceback": [
      "node 9 is not hybrid, so we cannot delete hybridization event around it",
      "",
      "Stacktrace:",
      " [1] error(s::String)",
      "   @ Base .\\error.jl:35",
      " [2] moveTargetUpdate!(net::HybridNetwork, node::PhyloNetworks.Node, majoredge::PhyloNetworks.EdgeT{PhyloNetworks.Node}, newedge::PhyloNetworks.EdgeT{PhyloNetworks.Node})",
      "   @ PhyloNetworks C:\\Users\\Israel\\.julia\\packages\\PhyloNetworks\\V8OaV\\src\\moves_snaq.jl:1044",
      " [3] top-level scope",
      "   @ In[25]:1"
     ]
    }
   ],
   "source": [
    "PhyloNetworks.moveTargetUpdate!(net, net.node[14] , net.edge[2], net.edge[6])"
   ]
  },
  {
   "cell_type": "code",
   "execution_count": 18,
   "metadata": {},
   "outputs": [
    {
     "ename": "LoadError",
     "evalue": "node -18 is not part of any cycle, so we cannot make it hybrid",
     "output_type": "error",
     "traceback": [
      "node -18 is not part of any cycle, so we cannot make it hybrid",
      "",
      "Stacktrace:",
      " [1] error(s::String)",
      "   @ Base .\\error.jl:35",
      " [2] hybridatnode!(net::HybridNetwork, nodeNumber::Int64)",
      "   @ PhyloNetworks C:\\Users\\Israel\\.julia\\packages\\PhyloNetworks\\V8OaV\\src\\manipulateNet.jl:132",
      " [3] top-level scope",
      "   @ In[18]:1"
     ]
    }
   ],
   "source": [
    "hybridatnode!(net, -18)\n",
    "plot(net, shownodenumber=true); # hybrid direction reversed: now 2B of hybrid origin"
   ]
  },
  {
   "cell_type": "code",
   "execution_count": 26,
   "metadata": {},
   "outputs": [
    {
     "data": {
      "image/png": "[encoded data removed]"
     },
     "metadata": {},
     "output_type": "display_data"
    }
   ],
   "source": [
    "net = readTopology(\"((S1,(((S2,(S3)#H1),(#H1,S4)))#H2),(#H2,S5));\");\n",
    "plot(net, shownodenumber=true); # to locate nodes and their numbers. D of hybrid origin\n"
   ]
  },
  {
   "cell_type": "code",
   "execution_count": 36,
   "metadata": {},
   "outputs": [
    {
     "data": {
      "image/png": "[encoded data removed]"
     },
     "metadata": {},
     "output_type": "display_data"
    }
   ],
   "source": [
    "net = readTopology(\"(1_2dn3-Hum:0.07530769665,((4_1hds-Dee:0.0528073453,6_1qpw-Pig:0.06665859446):0.02152352081,((3_2d5x-Hor:1e-08,5_2qss-Cow:1e-08):1e-08,20_1s0h-Do:1e-08):0.06472462393):0.02032419956,(((((((12_1out-Tr:0.2387258463,16_1spg-Fi:0.3731048609):0.05254102815,(((13_2h8f-Em:1e-08,15_3d1k-An:1e-08):0.1749055632,18_1V4W-Bl:0.09770713149):0.1479325642,19_1xq5-Ye:0.1992590704):0.07668473559):0.1801915413,((11_1wmu-Al:1e-08,17_1gcv-Ho:1e-08):0.4395960015,14_1cg5-Ca:0.3474616143):0.8944824012):1e-08,8_1hbr-Chi:0.2820483041):0.0189194681,2_1jeb-Hum:0.3128283876):0.08144709769,(9_1a4f-Bar:1e-08,10_1faw-Gr:1e-08):0.1655575179):0.1382264995,7_1fhj-Man:0.07975001425):0.01337333371);\")\n",
    "plot(net, shownodenumber=true); # to locate nodes and their numbers. D of hybrid origin"
   ]
  },
  {
   "cell_type": "code",
   "execution_count": 37,
   "metadata": {},
   "outputs": [
    {
     "data": {
      "text/plain": [
       "(PhyloNetworks.Node:\n",
       " number:22\n",
       " name:H1\n",
       " hybrid node\n",
       " attached to 3 edges, numbered: 25 39 40\n",
       ", PhyloNetworks.EdgeT{PhyloNetworks.Node}:\n",
       " number:40\n",
       " length:0.01\n",
       " minor hybrid edge with gamma=0.3527981147545242\n",
       " attached to 2 node(s) (parent first): 21 22\n",
       ")"
      ]
     },
     "execution_count": 37,
     "metadata": {},
     "output_type": "execute_result"
    }
   ],
   "source": [
    "using Random\n",
    "\n",
    "Random.seed!(170);\n",
    "\n",
    "PhyloNetworks.addhybridedge!(net, true, true)\n",
    "\n",
    "\n",
    "#writeTopology(net, round=true, digits=2)\n",
    "#\"((S1,(((#H1,S4),((S2,(S3)#H1))#H3:::0.67))#H2),((#H2,S5),#H3:0.01::0.33));\"\n"
   ]
  },
  {
   "cell_type": "code",
   "execution_count": 39,
   "metadata": {},
   "outputs": [
    {
     "data": {
      "image/png": "[encoded data removed]"
     },
     "metadata": {},
     "output_type": "display_data"
    }
   ],
   "source": [
    "plot(net, shownodenumber=true, showgamma=true); # to locate nodes and their numbers. D of hybrid origin"
   ]
  },
  {
   "cell_type": "code",
   "execution_count": 40,
   "metadata": {},
   "outputs": [],
   "source": [
    "net = readTopology(\"(((((S1,(S2)#H1),(#H1,S3)))#H2),(#H2,S4));\");\n",
    "\n"
   ]
  },
  {
   "cell_type": "code",
   "execution_count": 63,
   "metadata": {},
   "outputs": [
    {
     "data": {
      "text/plain": [
       "HybridNetwork, Rooted Network\n",
       "37 edges\n",
       "38 nodes: 20 tips, 0 hybrid nodes, 18 internal tree nodes.\n",
       "tip labels: 1_2dn3-Hum, 4_1hds-Dee, 6_1qpw-Pig, 3_2d5x-Hor, ...\n",
       "(1_2dn3-Hum:0.075,((4_1hds-Dee:0.053,6_1qpw-Pig:0.067):0.022,((3_2d5x-Hor:0.0,5_2qss-Cow:0.0):0.0,20_1s0h-Do:0.0):0.065):0.02,(((((((12_1out-Tr:0.239,16_1spg-Fi:0.373):0.053,(((13_2h8f-Em:0.0,15_3d1k-An:0.0):0.175,18_1V4W-Bl:0.098):0.148,19_1xq5-Ye:0.199):0.077):0.18,((11_1wmu-Al:0.0,17_1gcv-Ho:0.0):0.44,14_1cg5-Ca:0.347):0.894):0.0,8_1hbr-Chi:0.282):0.019,2_1jeb-Hum:0.313):0.081,(9_1a4f-Bar:0.0,10_1faw-Gr:0.0):0.166):0.138,7_1fhj-Man:0.08):0.013);\n"
      ]
     },
     "execution_count": 63,
     "metadata": {},
     "output_type": "execute_result"
    }
   ],
   "source": [
    "net"
   ]
  },
  {
   "cell_type": "code",
   "execution_count": 62,
   "metadata": {},
   "outputs": [
    {
     "data": {
      "image/png": "[encoded data removed]"
     },
     "metadata": {},
     "output_type": "display_data"
    }
   ],
   "source": [
    "plot(net, shownodenumber=true, showgamma=true); # to locate nodes and their numbers. D of hybrid origin"
   ]
  },
  {
   "cell_type": "code",
   "execution_count": 54,
   "metadata": {},
   "outputs": [],
   "source": [
    "net = readTopology(\"((((C:0.9)I1:0.1)I3:0.1,((A:1.0)I2:0.4)I3:0.6):1.4,(((B:0.2)H1:0.6)I2:0.5)I3:2.1);\");\n"
   ]
  },
  {
   "cell_type": "code",
   "execution_count": 61,
   "metadata": {},
   "outputs": [
    {
     "data": {
      "text/plain": [
       "\"(1_2dn3-Hum:0.075,((4_1hds-Dee:0.053,6_1qpw-Pig:0.067):0.022,((3_2d5x-Hor:0.0,5_2qss-Cow:0.0):0.0,20_1s0h-Do:0.0):0.065):0.02,(((((((12_1out-Tr:0.239,16_1spg-Fi:0.373):0.053,(((13_2h8f-Em:0.0,15_3d1k-An:0.0):0.175,18_1V4W-Bl:0.098):0.148,19_1xq5-Ye:0.199):0.077):0.18,((11_1wmu-Al:0.0,17_1gcv-Ho:0.0):0.44,14_1cg5-Ca:0.347):0.894):0.0,8_1hbr-Chi:0.282):0.019,2_1jeb-Hum:0.313):0.081,(9_1a4f-Bar:0.0,10_1faw-Gr:0.0):0.166):0.138,7_1fhj-Man:0.08):0.013);\""
      ]
     },
     "execution_count": 61,
     "metadata": {},
     "output_type": "execute_result"
    }
   ],
   "source": [
    "removedegree2nodes!(net, true);\n",
    "\n",
    "writeTopology(net, round=true) # the root was kept\n",
    "#\"((C:1.1,A:2.0):1.4,B:3.4);\""
   ]
  }
 ],
 "metadata": {
  "kernelspec": {
   "display_name": "Julia 1.10.4",
   "language": "julia",
   "name": "julia-1.10"
  },
  "language_info": {
   "file_extension": ".jl",
   "mimetype": "application/julia",
   "name": "julia",
   "version": "1.10.4"
  }
 },
 "nbformat": 4,
 "nbformat_minor": 2
}
